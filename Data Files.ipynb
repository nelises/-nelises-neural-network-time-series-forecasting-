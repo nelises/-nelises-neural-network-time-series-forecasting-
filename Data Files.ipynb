{
 "cells": [
  {
   "cell_type": "markdown",
   "metadata": {},
   "source": [
    "# -nelises-neural-network-time-series-forecasting-\n",
    "Examining Time Series Forecasting Approaches for Predicting Canadian Employment Trends\n",
    "\n",
    "# Data Files\n",
    "### *All raw and cleaned data files can be found here:*\n",
    "https://drive.google.com/drive/folders/1zanDyYFgwNVNAKwYVCsdnUYk7KBnDF0v?usp=sharing\n",
    "\n",
    "### *The original tables can be found at:*\n",
    "Statistics Canada. Table 14-10-0426-01  Employee wages by occupation, monthly, unadjusted for seasonality. DOI: https://doi.org/10.25318/1410042601-eng\n",
    "\n",
    "Statistics Canada. Table 14-10-0023-01  Labour force characteristics by industry, annual (x 1,000). DOI: https://doi.org/10.25318/1410002301-eng\n"
   ]
  }
 ],
 "metadata": {
  "language_info": {
   "name": "python"
  }
 },
 "nbformat": 4,
 "nbformat_minor": 2
}
